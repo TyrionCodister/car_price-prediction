{
 "cells": [
  {
   "cell_type": "code",
   "execution_count": null,
   "id": "32a6915b",
   "metadata": {},
   "outputs": [],
   "source": []
  },
  {
   "cell_type": "code",
   "execution_count": null,
   "id": "03a5c11a",
   "metadata": {},
   "outputs": [],
   "source": []
  },
  {
   "cell_type": "code",
   "execution_count": null,
   "id": "6c0b76d0",
   "metadata": {},
   "outputs": [],
   "source": []
  },
  {
   "cell_type": "code",
   "execution_count": null,
   "id": "4cefd85a",
   "metadata": {},
   "outputs": [],
   "source": []
  },
  {
   "cell_type": "code",
   "execution_count": null,
   "id": "43b4229b",
   "metadata": {},
   "outputs": [],
   "source": []
  },
  {
   "cell_type": "markdown",
   "id": "949653b4",
   "metadata": {},
   "source": [
    "---\n",
    "\n",
    "### Data Understanding\n",
    "\n",
    "With a substantial size of 6,019 entries, this dataset offers valuable insights for our analysis. It encompasses a range of features pertinent to the Kenyan automotive market. Below is a description of the dataset's columns:\n",
    "#### Dataset Overview:\n",
    "- **Source:** Kenyan Vehicle Listings\n",
    "- **Total Rows:** 6,019\n",
    "- **Total Columns:** 11\n",
    "\n",
    "#### Column Details:\n",
    "\n",
    "| **Column Name**       | **Description**                                              | **Data Type**    |\n",
    "|------------------------|--------------------------------------------------------------|------------------|\n",
    "| **No**                 | Unique identifier for each vehicle listing.                | Integer (int64)  |\n",
    "| **Name**               | Model name of the vehicle.                                 | String (object)  |\n",
    "| **Year**               | Year the vehicle was manufactured.                          | Integer (int64)  |\n",
    "| **Kilometers_Driven**  | Total distance covered by the vehicle in kilometers.        | Integer (int64)  |\n",
    "| **Fuel_Type**          | Type of fuel used by the vehicle (e.g., petrol, diesel).    | String (object)  |\n",
    "| **Transmission**       | Transmission type of the vehicle (e.g., manual, automatic). | String (object)  |\n",
    "| **Use**                | Intended use of the vehicle (e.g., personal, commercial).   | String (object)  |\n",
    "| **Engine**             | Engine capacity or specification of the vehicle.           | String (object)  |\n",
    "| **Power**              | Power output of the vehicle’s engine, typically in horsepower. | String (object)  |\n",
    "| **Seats**              | Number of seats available in the vehicle.                  | Integer (int64)  |\n",
    "| **Car_price**          | Price of the vehicle listed in Kenyan Shillings.            | Float (float64)  |\n",
    "\n",
    "---"
   ]
  },
  {
   "cell_type": "code",
   "execution_count": 67,
   "id": "26c67323",
   "metadata": {},
   "outputs": [
    {
     "name": "stdout",
     "output_type": "stream",
     "text": [
      "Requirement already satisfied: pandas in c:\\users\\jack\\documents\\flatiron\\lib\\site-packages (2.2.2)Note: you may need to restart the kernel to use updated packages.\n",
      "\n",
      "Requirement already satisfied: numpy in c:\\users\\jack\\documents\\flatiron\\lib\\site-packages (2.0.1)\n",
      "Requirement already satisfied: openpyxl in c:\\users\\jack\\documents\\flatiron\\lib\\site-packages (3.1.5)\n",
      "Requirement already satisfied: python-dateutil>=2.8.2 in c:\\users\\jack\\documents\\flatiron\\lib\\site-packages (from pandas) (2.8.2)\n",
      "Requirement already satisfied: pytz>=2020.1 in c:\\users\\jack\\documents\\flatiron\\lib\\site-packages (from pandas) (2023.3.post1)\n",
      "Requirement already satisfied: tzdata>=2022.7 in c:\\users\\jack\\documents\\flatiron\\lib\\site-packages (from pandas) (2023.3)\n",
      "Requirement already satisfied: et-xmlfile in c:\\users\\jack\\documents\\flatiron\\lib\\site-packages (from openpyxl) (1.1.0)\n",
      "Requirement already satisfied: six>=1.5 in c:\\users\\jack\\documents\\flatiron\\lib\\site-packages (from python-dateutil>=2.8.2->pandas) (1.16.0)\n"
     ]
    }
   ],
   "source": [
    "pip install --upgrade pandas numpy openpyxl"
   ]
  },
  {
   "cell_type": "code",
   "execution_count": 68,
   "id": "557f850b",
   "metadata": {},
   "outputs": [],
   "source": [
    "## Importing Libraries"
   ]
  },
  {
   "cell_type": "code",
   "execution_count": 69,
   "id": "0b00904d",
   "metadata": {},
   "outputs": [],
   "source": [
    "import pandas as pd \n",
    "import numpy as np\n",
    "import matplotlib.pyplot as plt\n",
    "import seaborn as sns"
   ]
  },
  {
   "cell_type": "markdown",
   "id": "1bf87b99",
   "metadata": {},
   "source": [
    "## Loading Data"
   ]
  },
  {
   "cell_type": "code",
   "execution_count": 74,
   "id": "7dbad137",
   "metadata": {
    "scrolled": true
   },
   "outputs": [
    {
     "name": "stdout",
     "output_type": "stream",
     "text": [
      "   No                              Name  Year  Kilometers_Driven Fuel_Type  \\\n",
      "0   0            Maruti Wagon R LXI CNG  2010              72000       CNG   \n",
      "1   1  Hyundai Creta 1.6 CRDi SX Option  2015              41000    Diesel   \n",
      "2   2                      Honda Jazz V  2011              46000    Petrol   \n",
      "3   3                 Maruti Ertiga VDI  2012              87000    Diesel   \n",
      "4   4   Audi A4 New 2.0 TDI Multitronic  2013              40670    Diesel   \n",
      "\n",
      "  Transmission      Use   Engine      Power  Seats   Car_price   \n",
      "0       Manual  foreign   998 CC  58.16 bhp    5.0     292250.0  \n",
      "1       Manual  foreign  1582 CC  126.2 bhp    5.0    2087500.0  \n",
      "2       Manual  foreign  1199 CC   88.7 bhp    5.0     751500.0  \n",
      "3       Manual  foreign  1248 CC  88.76 bhp    7.0    1002000.0  \n",
      "4    Automatic    local  1968 CC  140.8 bhp    5.0    2962580.0  \n"
     ]
    }
   ],
   "source": [
    "class DataLoader:\n",
    "    def __init__(self, file_path):\n",
    "        self.file_path = file_path\n",
    "    \n",
    "    def load_data(self):\n",
    "        try:\n",
    "            df = pd.read_excel(self.file_path)\n",
    "            return df\n",
    "        except FileNotFoundError:\n",
    "            print(f\"File not found: {self.file_path}\")\n",
    "        except pd.errors.EmptyDataError:\n",
    "            print(\"No data: File is empty\")\n",
    "        except ValueError:\n",
    "            print(\"ValueError: Check the Excel file for potential issues\")\n",
    "        except Exception as e:\n",
    "            print(f\"An unexpected error occurred: {e}\")\n",
    "\n",
    "file_path = 'car_data.xlsx'\n",
    "data_loader = DataLoader(file_path)\n",
    "df = data_loader.load_data()\n",
    "\n",
    "if df is not None:\n",
    "    print(df.head())"
   ]
  },
  {
   "cell_type": "markdown",
   "id": "f7ec1135",
   "metadata": {},
   "source": [
    "## Data Preparation"
   ]
  },
  {
   "cell_type": "markdown",
   "id": "56c591bf",
   "metadata": {},
   "source": [
    "Next, we will get an overview of the dataset."
   ]
  },
  {
   "cell_type": "code",
   "execution_count": 78,
   "id": "65cb181d",
   "metadata": {},
   "outputs": [
    {
     "data": {
      "text/html": [
       "<div>\n",
       "<style scoped>\n",
       "    .dataframe tbody tr th:only-of-type {\n",
       "        vertical-align: middle;\n",
       "    }\n",
       "\n",
       "    .dataframe tbody tr th {\n",
       "        vertical-align: top;\n",
       "    }\n",
       "\n",
       "    .dataframe thead th {\n",
       "        text-align: right;\n",
       "    }\n",
       "</style>\n",
       "<table border=\"1\" class=\"dataframe\">\n",
       "  <thead>\n",
       "    <tr style=\"text-align: right;\">\n",
       "      <th></th>\n",
       "      <th>No</th>\n",
       "      <th>Name</th>\n",
       "      <th>Year</th>\n",
       "      <th>Kilometers_Driven</th>\n",
       "      <th>Fuel_Type</th>\n",
       "      <th>Transmission</th>\n",
       "      <th>Use</th>\n",
       "      <th>Engine</th>\n",
       "      <th>Power</th>\n",
       "      <th>Seats</th>\n",
       "      <th>Car_price</th>\n",
       "    </tr>\n",
       "  </thead>\n",
       "  <tbody>\n",
       "    <tr>\n",
       "      <th>0</th>\n",
       "      <td>0</td>\n",
       "      <td>Maruti Wagon R LXI CNG</td>\n",
       "      <td>2010</td>\n",
       "      <td>72000</td>\n",
       "      <td>CNG</td>\n",
       "      <td>Manual</td>\n",
       "      <td>foreign</td>\n",
       "      <td>998 CC</td>\n",
       "      <td>58.16 bhp</td>\n",
       "      <td>5.0</td>\n",
       "      <td>292250.0</td>\n",
       "    </tr>\n",
       "    <tr>\n",
       "      <th>1</th>\n",
       "      <td>1</td>\n",
       "      <td>Hyundai Creta 1.6 CRDi SX Option</td>\n",
       "      <td>2015</td>\n",
       "      <td>41000</td>\n",
       "      <td>Diesel</td>\n",
       "      <td>Manual</td>\n",
       "      <td>foreign</td>\n",
       "      <td>1582 CC</td>\n",
       "      <td>126.2 bhp</td>\n",
       "      <td>5.0</td>\n",
       "      <td>2087500.0</td>\n",
       "    </tr>\n",
       "    <tr>\n",
       "      <th>2</th>\n",
       "      <td>2</td>\n",
       "      <td>Honda Jazz V</td>\n",
       "      <td>2011</td>\n",
       "      <td>46000</td>\n",
       "      <td>Petrol</td>\n",
       "      <td>Manual</td>\n",
       "      <td>foreign</td>\n",
       "      <td>1199 CC</td>\n",
       "      <td>88.7 bhp</td>\n",
       "      <td>5.0</td>\n",
       "      <td>751500.0</td>\n",
       "    </tr>\n",
       "    <tr>\n",
       "      <th>3</th>\n",
       "      <td>3</td>\n",
       "      <td>Maruti Ertiga VDI</td>\n",
       "      <td>2012</td>\n",
       "      <td>87000</td>\n",
       "      <td>Diesel</td>\n",
       "      <td>Manual</td>\n",
       "      <td>foreign</td>\n",
       "      <td>1248 CC</td>\n",
       "      <td>88.76 bhp</td>\n",
       "      <td>7.0</td>\n",
       "      <td>1002000.0</td>\n",
       "    </tr>\n",
       "    <tr>\n",
       "      <th>4</th>\n",
       "      <td>4</td>\n",
       "      <td>Audi A4 New 2.0 TDI Multitronic</td>\n",
       "      <td>2013</td>\n",
       "      <td>40670</td>\n",
       "      <td>Diesel</td>\n",
       "      <td>Automatic</td>\n",
       "      <td>local</td>\n",
       "      <td>1968 CC</td>\n",
       "      <td>140.8 bhp</td>\n",
       "      <td>5.0</td>\n",
       "      <td>2962580.0</td>\n",
       "    </tr>\n",
       "  </tbody>\n",
       "</table>\n",
       "</div>"
      ],
      "text/plain": [
       "   No                              Name  Year  Kilometers_Driven Fuel_Type  \\\n",
       "0   0            Maruti Wagon R LXI CNG  2010              72000       CNG   \n",
       "1   1  Hyundai Creta 1.6 CRDi SX Option  2015              41000    Diesel   \n",
       "2   2                      Honda Jazz V  2011              46000    Petrol   \n",
       "3   3                 Maruti Ertiga VDI  2012              87000    Diesel   \n",
       "4   4   Audi A4 New 2.0 TDI Multitronic  2013              40670    Diesel   \n",
       "\n",
       "  Transmission      Use   Engine      Power  Seats   Car_price   \n",
       "0       Manual  foreign   998 CC  58.16 bhp    5.0     292250.0  \n",
       "1       Manual  foreign  1582 CC  126.2 bhp    5.0    2087500.0  \n",
       "2       Manual  foreign  1199 CC   88.7 bhp    5.0     751500.0  \n",
       "3       Manual  foreign  1248 CC  88.76 bhp    7.0    1002000.0  \n",
       "4    Automatic    local  1968 CC  140.8 bhp    5.0    2962580.0  "
      ]
     },
     "execution_count": 78,
     "metadata": {},
     "output_type": "execute_result"
    }
   ],
   "source": [
    "# preview the first five columns of the dataset\n",
    "df.head()"
   ]
  },
  {
   "cell_type": "code",
   "execution_count": 80,
   "id": "f686d406",
   "metadata": {},
   "outputs": [
    {
     "data": {
      "text/html": [
       "<div>\n",
       "<style scoped>\n",
       "    .dataframe tbody tr th:only-of-type {\n",
       "        vertical-align: middle;\n",
       "    }\n",
       "\n",
       "    .dataframe tbody tr th {\n",
       "        vertical-align: top;\n",
       "    }\n",
       "\n",
       "    .dataframe thead th {\n",
       "        text-align: right;\n",
       "    }\n",
       "</style>\n",
       "<table border=\"1\" class=\"dataframe\">\n",
       "  <thead>\n",
       "    <tr style=\"text-align: right;\">\n",
       "      <th></th>\n",
       "      <th>No</th>\n",
       "      <th>Name</th>\n",
       "      <th>Year</th>\n",
       "      <th>Kilometers_Driven</th>\n",
       "      <th>Fuel_Type</th>\n",
       "      <th>Transmission</th>\n",
       "      <th>Use</th>\n",
       "      <th>Engine</th>\n",
       "      <th>Power</th>\n",
       "      <th>Seats</th>\n",
       "      <th>Car_price</th>\n",
       "    </tr>\n",
       "  </thead>\n",
       "  <tbody>\n",
       "    <tr>\n",
       "      <th>6014</th>\n",
       "      <td>6014</td>\n",
       "      <td>Maruti Swift VDI</td>\n",
       "      <td>2014</td>\n",
       "      <td>27365</td>\n",
       "      <td>Diesel</td>\n",
       "      <td>Manual</td>\n",
       "      <td>foreign</td>\n",
       "      <td>1248 CC</td>\n",
       "      <td>74 bhp</td>\n",
       "      <td>5.0</td>\n",
       "      <td>793250.0</td>\n",
       "    </tr>\n",
       "    <tr>\n",
       "      <th>6015</th>\n",
       "      <td>6015</td>\n",
       "      <td>Hyundai Xcent 1.1 CRDi S</td>\n",
       "      <td>2015</td>\n",
       "      <td>100000</td>\n",
       "      <td>Diesel</td>\n",
       "      <td>Manual</td>\n",
       "      <td>foreign</td>\n",
       "      <td>1120 CC</td>\n",
       "      <td>71 bhp</td>\n",
       "      <td>5.0</td>\n",
       "      <td>668000.0</td>\n",
       "    </tr>\n",
       "    <tr>\n",
       "      <th>6016</th>\n",
       "      <td>6016</td>\n",
       "      <td>Mahindra Xylo D4 BSIV</td>\n",
       "      <td>2012</td>\n",
       "      <td>55000</td>\n",
       "      <td>Diesel</td>\n",
       "      <td>Manual</td>\n",
       "      <td>local</td>\n",
       "      <td>2498 CC</td>\n",
       "      <td>112 bhp</td>\n",
       "      <td>8.0</td>\n",
       "      <td>484300.0</td>\n",
       "    </tr>\n",
       "    <tr>\n",
       "      <th>6017</th>\n",
       "      <td>6017</td>\n",
       "      <td>Maruti Wagon R VXI</td>\n",
       "      <td>2013</td>\n",
       "      <td>46000</td>\n",
       "      <td>Petrol</td>\n",
       "      <td>Manual</td>\n",
       "      <td>foreign</td>\n",
       "      <td>998 CC</td>\n",
       "      <td>67.1 bhp</td>\n",
       "      <td>5.0</td>\n",
       "      <td>442550.0</td>\n",
       "    </tr>\n",
       "    <tr>\n",
       "      <th>6018</th>\n",
       "      <td>6018</td>\n",
       "      <td>Chevrolet Beat Diesel</td>\n",
       "      <td>2011</td>\n",
       "      <td>47000</td>\n",
       "      <td>Diesel</td>\n",
       "      <td>Manual</td>\n",
       "      <td>foreign</td>\n",
       "      <td>936 CC</td>\n",
       "      <td>57.6 bhp</td>\n",
       "      <td>5.0</td>\n",
       "      <td>417500.0</td>\n",
       "    </tr>\n",
       "  </tbody>\n",
       "</table>\n",
       "</div>"
      ],
      "text/plain": [
       "        No                      Name  Year  Kilometers_Driven Fuel_Type  \\\n",
       "6014  6014          Maruti Swift VDI  2014              27365    Diesel   \n",
       "6015  6015  Hyundai Xcent 1.1 CRDi S  2015             100000    Diesel   \n",
       "6016  6016     Mahindra Xylo D4 BSIV  2012              55000    Diesel   \n",
       "6017  6017        Maruti Wagon R VXI  2013              46000    Petrol   \n",
       "6018  6018     Chevrolet Beat Diesel  2011              47000    Diesel   \n",
       "\n",
       "     Transmission      Use   Engine     Power  Seats   Car_price   \n",
       "6014       Manual  foreign  1248 CC    74 bhp    5.0     793250.0  \n",
       "6015       Manual  foreign  1120 CC    71 bhp    5.0     668000.0  \n",
       "6016       Manual    local  2498 CC   112 bhp    8.0     484300.0  \n",
       "6017       Manual  foreign   998 CC  67.1 bhp    5.0     442550.0  \n",
       "6018       Manual  foreign   936 CC  57.6 bhp    5.0     417500.0  "
      ]
     },
     "execution_count": 80,
     "metadata": {},
     "output_type": "execute_result"
    }
   ],
   "source": [
    "# preview the last five columns of the dataset\n",
    "df.tail() "
   ]
  },
  {
   "cell_type": "code",
   "execution_count": 82,
   "id": "cd09f837",
   "metadata": {},
   "outputs": [
    {
     "name": "stdout",
     "output_type": "stream",
     "text": [
      "The DataFrame has 6019 rows.\n"
     ]
    }
   ],
   "source": [
    "# Check the number of rows in the DataFrame\n",
    "num_rows = len(df)\n",
    "print(f\"The DataFrame has {num_rows} rows.\")"
   ]
  },
  {
   "cell_type": "code",
   "execution_count": 84,
   "id": "c9732ab1",
   "metadata": {},
   "outputs": [
    {
     "data": {
      "text/plain": [
       "Index(['No', 'Name', 'Year', 'Kilometers_Driven', 'Fuel_Type', 'Transmission',\n",
       "       'Use', 'Engine', 'Power', 'Seats', ' Car_price '],\n",
       "      dtype='object')"
      ]
     },
     "execution_count": 84,
     "metadata": {},
     "output_type": "execute_result"
    }
   ],
   "source": [
    "#view the column names\n",
    "df.columns"
   ]
  },
  {
   "cell_type": "code",
   "execution_count": 86,
   "id": "28d558d9",
   "metadata": {},
   "outputs": [
    {
     "name": "stdout",
     "output_type": "stream",
     "text": [
      "<class 'pandas.core.frame.DataFrame'>\n",
      "RangeIndex: 6019 entries, 0 to 6018\n",
      "Data columns (total 11 columns):\n",
      " #   Column             Non-Null Count  Dtype  \n",
      "---  ------             --------------  -----  \n",
      " 0   No                 6019 non-null   int64  \n",
      " 1   Name               6019 non-null   object \n",
      " 2   Year               6019 non-null   int64  \n",
      " 3   Kilometers_Driven  6019 non-null   int64  \n",
      " 4   Fuel_Type          6019 non-null   object \n",
      " 5   Transmission       6019 non-null   object \n",
      " 6   Use                6019 non-null   object \n",
      " 7   Engine             5983 non-null   object \n",
      " 8   Power              5983 non-null   object \n",
      " 9   Seats              5977 non-null   float64\n",
      " 10   Car_price         6019 non-null   float64\n",
      "dtypes: float64(2), int64(3), object(6)\n",
      "memory usage: 517.4+ KB\n"
     ]
    }
   ],
   "source": [
    "# Get a concise summary of the DataFrame\n",
    "df.info()"
   ]
  },
  {
   "cell_type": "code",
   "execution_count": 88,
   "id": "4e13c42d",
   "metadata": {},
   "outputs": [
    {
     "name": "stdout",
     "output_type": "stream",
     "text": [
      "                No         Year  Kilometers_Driven        Seats    Car_price \n",
      "count  6019.000000  6019.000000       6.019000e+03  5977.000000  6.019000e+03\n",
      "mean   3009.000000  2013.358199       5.873838e+04     5.278735  1.583071e+06\n",
      "std    1737.679967     3.269742       9.126884e+04     0.808840  1.868382e+06\n",
      "min       0.000000  1998.000000       1.710000e+02     0.000000  7.348000e+04\n",
      "25%    1504.500000  2011.000000       3.400000e+04     5.000000  5.845000e+05\n",
      "50%    3009.000000  2014.000000       5.300000e+04     5.000000  9.418800e+05\n",
      "75%    4513.500000  2016.000000       7.300000e+04     5.000000  1.661650e+06\n",
      "max    6018.000000  2019.000000       6.500000e+06    10.000000  2.672000e+07\n"
     ]
    }
   ],
   "source": [
    "# Get descriptive statistics\n",
    "statistics = df.describe()\n",
    "print(statistics)"
   ]
  },
  {
   "cell_type": "markdown",
   "id": "f0f5da77",
   "metadata": {},
   "source": [
    "## Checking and Handling Duplicates"
   ]
  },
  {
   "cell_type": "code",
   "execution_count": 91,
   "id": "7a8ad86e",
   "metadata": {},
   "outputs": [],
   "source": [
    "#Identify Duplicates"
   ]
  },
  {
   "cell_type": "code",
   "execution_count": 93,
   "id": "e3cef386",
   "metadata": {},
   "outputs": [
    {
     "name": "stdout",
     "output_type": "stream",
     "text": [
      "Total duplicate rows: 0\n"
     ]
    }
   ],
   "source": [
    "# Check for duplicates\n",
    "duplicates = df.duplicated()\n",
    "print(f\"Total duplicate rows: {duplicates.sum()}\")"
   ]
  },
  {
   "cell_type": "markdown",
   "id": "f7f1bc5c",
   "metadata": {},
   "source": [
    "This step verifies that there are no duplicate rows in the dataset, indicating that all records are unique based on the columns we've checked. With 0 duplicates identified, we can confidently move forward by checking for possible identical vehicles based on fewer columns. We can do this by comparing data based on features with as much available important features as possible. "
   ]
  },
  {
   "cell_type": "code",
   "execution_count": 96,
   "id": "00293e01",
   "metadata": {},
   "outputs": [
    {
     "data": {
      "text/plain": [
       "No                    0\n",
       "Name                  0\n",
       "Year                  0\n",
       "Kilometers_Driven     0\n",
       "Fuel_Type             0\n",
       "Transmission          0\n",
       "Use                   0\n",
       "Engine               36\n",
       "Power                36\n",
       "Seats                42\n",
       " Car_price            0\n",
       "dtype: int64"
      ]
     },
     "execution_count": 96,
     "metadata": {},
     "output_type": "execute_result"
    }
   ],
   "source": [
    "df.isnull().sum()"
   ]
  },
  {
   "cell_type": "markdown",
   "id": "8ce6353c",
   "metadata": {},
   "source": [
    "We filter out duplicate listings by focusing on values that increase the likelihood of uniqueness. This approach helps minimize errors that could arise from using a single feature incorrectly."
   ]
  },
  {
   "cell_type": "markdown",
   "id": "073bb5c0-c552-4141-9c39-629b45a25739",
   "metadata": {},
   "source": [
    "# Data Cleaning"
   ]
  },
  {
   "cell_type": "code",
   "execution_count": 100,
   "id": "a478ce9d",
   "metadata": {},
   "outputs": [],
   "source": [
    "class DataCleaner(DataLoader):\n",
    "    def __init__(self, file_path):\n",
    "        super().__init__(file_path)\n",
    "    \n",
    "    def clean_data(self):\n",
    "        df = self.load_data()\n",
    "        \n",
    "        if df is not None:\n",
    "            # Remove non-numeric characters and convert to float for 'Engine' and 'Power'\n",
    "            df['Engine'] = df['Engine'].str.replace(r'[^0-9.]', '', regex=True).replace('', np.nan).astype(float)\n",
    "            df['Power'] = df['Power'].str.replace(r'[^0-9.]', '', regex=True).replace('', np.nan).astype(float)\n",
    "\n",
    "            # Fill missing values in 'Engine', 'Power', and 'Seats' with the median\n",
    "            df['Engine'] = df['Engine'].fillna(df['Engine'].median())\n",
    "            df['Power'] = df['Power'].fillna(df['Power'].median())\n",
    "            df['Seats'] = df['Seats'].fillna(df['Seats'].median())\n",
    "\n",
    "            # Convert data types\n",
    "            df['Year'] = df['Year'].astype(int)\n",
    "            df['Kilometers_Driven'] = df['Kilometers_Driven'].astype(int)\n",
    "            df['Seats'] = df['Seats'].astype(int)\n",
    "            df[' Car_price '] = df[' Car_price '].astype(float)\n",
    "\n",
    "            # Remove duplicates\n",
    "            df = df.drop_duplicates()\n",
    "\n",
    "            # Standardize text data\n",
    "            df['Name'] = df['Name'].str.lower()\n",
    "            df['Fuel_Type'] = df['Fuel_Type'].str.lower()\n",
    "            df['Transmission'] = df['Transmission'].str.lower()\n",
    "            df['Use'] = df['Use'].str.lower()\n",
    "            \n",
    "            return df\n",
    "        else:\n",
    "            print(\"Data loading failed, cleaning process aborted.\")\n",
    "            return None"
   ]
  },
  {
   "cell_type": "code",
   "execution_count": 102,
   "id": "288580fa",
   "metadata": {},
   "outputs": [],
   "source": [
    "file_path = 'car_data.xlsx'\n",
    "data_cleaner = DataCleaner(file_path)\n",
    "cleaned_df = data_cleaner.clean_data()"
   ]
  },
  {
   "cell_type": "code",
   "execution_count": 106,
   "id": "79748127-ed2d-4a57-8a6e-4afbcd6c0a70",
   "metadata": {},
   "outputs": [
    {
     "name": "stdout",
     "output_type": "stream",
     "text": [
      "<class 'pandas.core.frame.DataFrame'>\n",
      "RangeIndex: 6019 entries, 0 to 6018\n",
      "Data columns (total 11 columns):\n",
      " #   Column             Non-Null Count  Dtype  \n",
      "---  ------             --------------  -----  \n",
      " 0   No                 6019 non-null   int64  \n",
      " 1   Name               6019 non-null   object \n",
      " 2   Year               6019 non-null   int32  \n",
      " 3   Kilometers_Driven  6019 non-null   int32  \n",
      " 4   Fuel_Type          6019 non-null   object \n",
      " 5   Transmission       6019 non-null   object \n",
      " 6   Use                6019 non-null   object \n",
      " 7   Engine             6019 non-null   float64\n",
      " 8   Power              6019 non-null   float64\n",
      " 9   Seats              6019 non-null   int32  \n",
      " 10   Car_price         6019 non-null   float64\n",
      "dtypes: float64(3), int32(3), int64(1), object(4)\n",
      "memory usage: 446.9+ KB\n"
     ]
    }
   ],
   "source": [
    "cleaned_df.info()"
   ]
  },
  {
   "cell_type": "code",
   "execution_count": 108,
   "id": "d06c077d-8753-4cc4-8bee-57425b9fd9cd",
   "metadata": {},
   "outputs": [
    {
     "data": {
      "text/html": [
       "<div>\n",
       "<style scoped>\n",
       "    .dataframe tbody tr th:only-of-type {\n",
       "        vertical-align: middle;\n",
       "    }\n",
       "\n",
       "    .dataframe tbody tr th {\n",
       "        vertical-align: top;\n",
       "    }\n",
       "\n",
       "    .dataframe thead th {\n",
       "        text-align: right;\n",
       "    }\n",
       "</style>\n",
       "<table border=\"1\" class=\"dataframe\">\n",
       "  <thead>\n",
       "    <tr style=\"text-align: right;\">\n",
       "      <th></th>\n",
       "      <th>No</th>\n",
       "      <th>Name</th>\n",
       "      <th>Year</th>\n",
       "      <th>Kilometers_Driven</th>\n",
       "      <th>Fuel_Type</th>\n",
       "      <th>Transmission</th>\n",
       "      <th>Use</th>\n",
       "      <th>Engine</th>\n",
       "      <th>Power</th>\n",
       "      <th>Seats</th>\n",
       "      <th>Car_price</th>\n",
       "    </tr>\n",
       "  </thead>\n",
       "  <tbody>\n",
       "    <tr>\n",
       "      <th>0</th>\n",
       "      <td>0</td>\n",
       "      <td>maruti wagon r lxi cng</td>\n",
       "      <td>2010</td>\n",
       "      <td>72000</td>\n",
       "      <td>cng</td>\n",
       "      <td>manual</td>\n",
       "      <td>foreign</td>\n",
       "      <td>998.0</td>\n",
       "      <td>58.16</td>\n",
       "      <td>5</td>\n",
       "      <td>292250.0</td>\n",
       "    </tr>\n",
       "    <tr>\n",
       "      <th>1</th>\n",
       "      <td>1</td>\n",
       "      <td>hyundai creta 1.6 crdi sx option</td>\n",
       "      <td>2015</td>\n",
       "      <td>41000</td>\n",
       "      <td>diesel</td>\n",
       "      <td>manual</td>\n",
       "      <td>foreign</td>\n",
       "      <td>1582.0</td>\n",
       "      <td>126.20</td>\n",
       "      <td>5</td>\n",
       "      <td>2087500.0</td>\n",
       "    </tr>\n",
       "    <tr>\n",
       "      <th>2</th>\n",
       "      <td>2</td>\n",
       "      <td>honda jazz v</td>\n",
       "      <td>2011</td>\n",
       "      <td>46000</td>\n",
       "      <td>petrol</td>\n",
       "      <td>manual</td>\n",
       "      <td>foreign</td>\n",
       "      <td>1199.0</td>\n",
       "      <td>88.70</td>\n",
       "      <td>5</td>\n",
       "      <td>751500.0</td>\n",
       "    </tr>\n",
       "    <tr>\n",
       "      <th>3</th>\n",
       "      <td>3</td>\n",
       "      <td>maruti ertiga vdi</td>\n",
       "      <td>2012</td>\n",
       "      <td>87000</td>\n",
       "      <td>diesel</td>\n",
       "      <td>manual</td>\n",
       "      <td>foreign</td>\n",
       "      <td>1248.0</td>\n",
       "      <td>88.76</td>\n",
       "      <td>7</td>\n",
       "      <td>1002000.0</td>\n",
       "    </tr>\n",
       "    <tr>\n",
       "      <th>4</th>\n",
       "      <td>4</td>\n",
       "      <td>audi a4 new 2.0 tdi multitronic</td>\n",
       "      <td>2013</td>\n",
       "      <td>40670</td>\n",
       "      <td>diesel</td>\n",
       "      <td>automatic</td>\n",
       "      <td>local</td>\n",
       "      <td>1968.0</td>\n",
       "      <td>140.80</td>\n",
       "      <td>5</td>\n",
       "      <td>2962580.0</td>\n",
       "    </tr>\n",
       "  </tbody>\n",
       "</table>\n",
       "</div>"
      ],
      "text/plain": [
       "   No                              Name  Year  Kilometers_Driven Fuel_Type  \\\n",
       "0   0            maruti wagon r lxi cng  2010              72000       cng   \n",
       "1   1  hyundai creta 1.6 crdi sx option  2015              41000    diesel   \n",
       "2   2                      honda jazz v  2011              46000    petrol   \n",
       "3   3                 maruti ertiga vdi  2012              87000    diesel   \n",
       "4   4   audi a4 new 2.0 tdi multitronic  2013              40670    diesel   \n",
       "\n",
       "  Transmission      Use  Engine   Power  Seats   Car_price   \n",
       "0       manual  foreign   998.0   58.16      5     292250.0  \n",
       "1       manual  foreign  1582.0  126.20      5    2087500.0  \n",
       "2       manual  foreign  1199.0   88.70      5     751500.0  \n",
       "3       manual  foreign  1248.0   88.76      7    1002000.0  \n",
       "4    automatic    local  1968.0  140.80      5    2962580.0  "
      ]
     },
     "execution_count": 108,
     "metadata": {},
     "output_type": "execute_result"
    }
   ],
   "source": [
    "cleaned_df.head()"
   ]
  },
  {
   "cell_type": "code",
   "execution_count": null,
   "id": "a74a76f4-08e4-45fb-83cb-214f0b66a039",
   "metadata": {},
   "outputs": [],
   "source": []
  }
 ],
 "metadata": {
  "kernelspec": {
   "display_name": "Python 3 (ipykernel)",
   "language": "python",
   "name": "python3"
  },
  "language_info": {
   "codemirror_mode": {
    "name": "ipython",
    "version": 3
   },
   "file_extension": ".py",
   "mimetype": "text/x-python",
   "name": "python",
   "nbconvert_exporter": "python",
   "pygments_lexer": "ipython3",
   "version": "3.11.7"
  }
 },
 "nbformat": 4,
 "nbformat_minor": 5
}
